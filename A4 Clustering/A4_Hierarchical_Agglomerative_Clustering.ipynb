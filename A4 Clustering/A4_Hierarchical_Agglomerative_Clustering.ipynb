{
 "cells": [
  {
   "cell_type": "code",
   "execution_count": 1,
   "metadata": {},
   "outputs": [],
   "source": [
    "# load packages\n",
    "\n",
    "# data wrangling\n",
    "import pandas as pd\n",
    "import numpy as np\n",
    "import itertools\n",
    "\n",
    "# math packages\n",
    "import math\n",
    "\n",
    "# visualizations\n",
    "import matplotlib as mpl\n",
    "import matplotlib.pyplot as plt\n",
    "import pylab\n",
    "\n",
    "# cluster class dependencies\n",
    "from queue import PriorityQueue"
   ]
  },
  {
   "cell_type": "code",
   "execution_count": 2,
   "metadata": {},
   "outputs": [
    {
     "name": "stderr",
     "output_type": "stream",
     "text": [
      "C:\\Users\\vaisu\\.conda\\envs\\DataMining-env\\lib\\site-packages\\ipykernel_launcher.py:2: ParserWarning: Falling back to the 'python' engine because the 'c' engine does not support regex separators (separators > 1 char and different from '\\s+' are interpreted as regex); you can avoid this warning by specifying engine='python'.\n",
      "  \n"
     ]
    },
    {
     "data": {
      "text/html": [
       "<div>\n",
       "<style scoped>\n",
       "    .dataframe tbody tr th:only-of-type {\n",
       "        vertical-align: middle;\n",
       "    }\n",
       "\n",
       "    .dataframe tbody tr th {\n",
       "        vertical-align: top;\n",
       "    }\n",
       "\n",
       "    .dataframe thead th {\n",
       "        text-align: right;\n",
       "    }\n",
       "</style>\n",
       "<table border=\"1\" class=\"dataframe\">\n",
       "  <thead>\n",
       "    <tr style=\"text-align: right;\">\n",
       "      <th></th>\n",
       "      <th>0</th>\n",
       "      <th>1</th>\n",
       "      <th>2</th>\n",
       "    </tr>\n",
       "  </thead>\n",
       "  <tbody>\n",
       "    <tr>\n",
       "      <th>0</th>\n",
       "      <td>1</td>\n",
       "      <td>-6.912185</td>\n",
       "      <td>3.800000</td>\n",
       "    </tr>\n",
       "    <tr>\n",
       "      <th>1</th>\n",
       "      <td>2</td>\n",
       "      <td>-6.988086</td>\n",
       "      <td>4.000000</td>\n",
       "    </tr>\n",
       "    <tr>\n",
       "      <th>2</th>\n",
       "      <td>3</td>\n",
       "      <td>-9.922216</td>\n",
       "      <td>-4.982732</td>\n",
       "    </tr>\n",
       "    <tr>\n",
       "      <th>3</th>\n",
       "      <td>4</td>\n",
       "      <td>-8.956574</td>\n",
       "      <td>-4.414626</td>\n",
       "    </tr>\n",
       "    <tr>\n",
       "      <th>4</th>\n",
       "      <td>5</td>\n",
       "      <td>-7.976215</td>\n",
       "      <td>-3.982776</td>\n",
       "    </tr>\n",
       "  </tbody>\n",
       "</table>\n",
       "</div>"
      ],
      "text/plain": [
       "   0         1         2\n",
       "0  1 -6.912185  3.800000\n",
       "1  2 -6.988086  4.000000\n",
       "2  3 -9.922216 -4.982732\n",
       "3  4 -8.956574 -4.414626\n",
       "4  5 -7.976215 -3.982776"
      ]
     },
     "execution_count": 2,
     "metadata": {},
     "output_type": "execute_result"
    }
   ],
   "source": [
    "# read in the data\n",
    "c1 = pd.read_csv('c1.txt', sep=\"  \", header=None)\n",
    "c1.head()"
   ]
  },
  {
   "cell_type": "code",
   "execution_count": 3,
   "metadata": {},
   "outputs": [
    {
     "data": {
      "text/html": [
       "<div>\n",
       "<style scoped>\n",
       "    .dataframe tbody tr th:only-of-type {\n",
       "        vertical-align: middle;\n",
       "    }\n",
       "\n",
       "    .dataframe tbody tr th {\n",
       "        vertical-align: top;\n",
       "    }\n",
       "\n",
       "    .dataframe thead th {\n",
       "        text-align: right;\n",
       "    }\n",
       "</style>\n",
       "<table border=\"1\" class=\"dataframe\">\n",
       "  <thead>\n",
       "    <tr style=\"text-align: right;\">\n",
       "      <th></th>\n",
       "      <th>x1</th>\n",
       "      <th>x2</th>\n",
       "    </tr>\n",
       "  </thead>\n",
       "  <tbody>\n",
       "    <tr>\n",
       "      <th>0</th>\n",
       "      <td>-6.912185</td>\n",
       "      <td>3.800000</td>\n",
       "    </tr>\n",
       "    <tr>\n",
       "      <th>1</th>\n",
       "      <td>-6.988086</td>\n",
       "      <td>4.000000</td>\n",
       "    </tr>\n",
       "    <tr>\n",
       "      <th>2</th>\n",
       "      <td>-9.922216</td>\n",
       "      <td>-4.982732</td>\n",
       "    </tr>\n",
       "    <tr>\n",
       "      <th>3</th>\n",
       "      <td>-8.956574</td>\n",
       "      <td>-4.414626</td>\n",
       "    </tr>\n",
       "    <tr>\n",
       "      <th>4</th>\n",
       "      <td>-7.976215</td>\n",
       "      <td>-3.982776</td>\n",
       "    </tr>\n",
       "  </tbody>\n",
       "</table>\n",
       "</div>"
      ],
      "text/plain": [
       "         x1        x2\n",
       "0 -6.912185  3.800000\n",
       "1 -6.988086  4.000000\n",
       "2 -9.922216 -4.982732\n",
       "3 -8.956574 -4.414626\n",
       "4 -7.976215 -3.982776"
      ]
     },
     "execution_count": 3,
     "metadata": {},
     "output_type": "execute_result"
    }
   ],
   "source": [
    "# cleaning data by dropping the index column\n",
    "c1 = c1.drop([0], axis=1)\n",
    "c1 = c1.rename(columns={1:'x1', 2:'x2'})\n",
    "c1.head()"
   ]
  },
  {
   "cell_type": "code",
   "execution_count": 4,
   "metadata": {},
   "outputs": [
    {
     "data": {
      "image/png": "[encoded data removed]",
      "text/plain": [
       "<Figure size 720x360 with 1 Axes>"
      ]
     },
     "metadata": {
      "needs_background": "light"
     },
     "output_type": "display_data"
    }
   ],
   "source": [
    "# we should start by looking at a plot of the data\n",
    "fig, ax = plt.subplots(figsize=(10,5))\n",
    "c1.plot(kind='scatter', x='x1', y='x2', alpha=0.4, s=500,\n",
    "        ax=ax)\n",
    "\n",
    "for k, v in c1.iterrows():\n",
    "    ax.annotate(k, v,\n",
    "                xytext=(5,-15), textcoords='offset points',\n",
    "                family='sans-serif', fontsize=12, color='darkslategrey')"
   ]
  },
  {
   "cell_type": "code",
   "execution_count": 5,
   "metadata": {},
   "outputs": [],
   "source": [
    "# then it looks like there are opportunites for clustering\n",
    "# lets compute pairwise distances and add them\n",
    "# to a priority que "
   ]
  },
  {
   "cell_type": "code",
   "execution_count": 6,
   "metadata": {},
   "outputs": [],
   "source": [
    "def printClusters(result):\n",
    "    for cluster in result.getList():\n",
    "        print(cluster.getPointList())"
   ]
  },
  {
   "cell_type": "code",
   "execution_count": 7,
   "metadata": {},
   "outputs": [],
   "source": [
    "# a class for cluster objects\n",
    "class Cluster:\n",
    "    \n",
    "#     def __init__(self, triplet, size):\n",
    "        \n",
    "#         # initialize a 0 array of length size\n",
    "#         self.pointList = np.zeros(size)\n",
    "        \n",
    "#         # add the intial points\n",
    "#         self.addPoint(triplet[1])\n",
    "#         self.addPoint(triplet[2])\n",
    "#         return\n",
    "\n",
    "    def __init__(self, point):\n",
    "        \n",
    "        self.pointList = []\n",
    "        self.size = 0\n",
    "#         initialize a 0 array of length size\n",
    "#         self.pointList = np.zeros(size)\n",
    "        \n",
    "        # add the initial point\n",
    "        self.addPoint(point)\n",
    "        return\n",
    "    \n",
    "    def getPointList(self):\n",
    "        return self.pointList\n",
    "    \n",
    "    def addPoint(self, newPoint):\n",
    "        self.pointList.append(newPoint)\n",
    "        self.size += 1\n",
    "        return\n",
    "    \n",
    "    def getClusterSize(self):\n",
    "        return self.size\n",
    "    \n",
    "    def computeMean(self, data):\n",
    "        xMean = 0\n",
    "        yMean = 0\n",
    "        \n",
    "        for point in self.pointList:\n",
    "            xMean += data[point][0]\n",
    "            yMean += data[point][1]\n",
    "            \n",
    "        xMean = xMean / self.size\n",
    "        yMean = yMean / self.size\n",
    "        \n",
    "        return [xMean, yMean]\n",
    "    \n",
    "#     def hasPoint(self, newPoint):\n",
    "#         if self.pointList[newPoint] == 1:\n",
    "#             return True\n",
    "#         else:\n",
    "#             return False"
   ]
  },
  {
   "cell_type": "code",
   "execution_count": 8,
   "metadata": {},
   "outputs": [],
   "source": [
    "# a container for cluster objects and cluster operations\n",
    "class clusterList:\n",
    "    \n",
    "    def __init__(self, data, distanceType):\n",
    "        self.list = []\n",
    "        self.size = 0\n",
    "        self.data = data\n",
    "        self.pq = PriorityQueue()\n",
    "        self.distanceType = distanceType\n",
    "        return\n",
    "    \n",
    "    def addCluster(self, cluster):\n",
    "        self.list.append(cluster)\n",
    "        self.size += 1\n",
    "        return\n",
    "    \n",
    "    def deleteCluster(self, index):\n",
    "        del self.list[index]\n",
    "        self.size -= 1\n",
    "        return\n",
    "    \n",
    "    def getClusterDistance(self, c1, c2):\n",
    "        \n",
    "        if (self.distanceType == \"Single-Link\"):\n",
    "            return self.getMinDistance(c1, c2)\n",
    "        elif (self.distanceType == \"Complete-Link\"):\n",
    "            return self.getMaxDistance(c1, c2)\n",
    "        elif (self.distanceType == \"Mean-Link\"):\n",
    "            return self.getMeanDistance(c1, c2)\n",
    "    \n",
    "    def getMaxDistance(self, c1, c2):\n",
    "        c1Points = c1.getPointList()\n",
    "        c2Points = c2.getPointList()\n",
    "        \n",
    "        # initialize the minimum value \n",
    "        maxD = self.euclideanDistance(self.data[c1Points[0]], self.data[c2Points[0]])\n",
    "        \n",
    "        # O(n^2) search for a better min\n",
    "        for c1P in c1Points:\n",
    "#             print(\"c1: \", c1P)\n",
    "            for c2P in c2Points:\n",
    "#                 print(\"c2: \", c2P)\n",
    "                D = self.euclideanDistance(self.data[c1P], self.data[c2P])\n",
    "#                 print(\"Distance between {} and {} = {}\".format(c1P, c2P, D))\n",
    "                if D > maxD:\n",
    "                    maxD = D\n",
    "                    \n",
    "        return maxD\n",
    "    \n",
    "    def getMeanDistance(self, c1, c2):\n",
    "        c1Mean = c1.computeMean(self.data)\n",
    "        c2Mean = c2.computeMean(self.data)\n",
    "        return self.euclideanDistance(c1Mean, c2Mean)\n",
    "    \n",
    "    def getMinDistance(self, c1, c2):\n",
    "        c1Points = c1.getPointList()\n",
    "        c2Points = c2.getPointList()\n",
    "        \n",
    "        # initialize the minimum value \n",
    "        minD = self.euclideanDistance(self.data[c1Points[0]], self.data[c2Points[0]])\n",
    "        \n",
    "        # O(n^2) search for a better min\n",
    "        for c1P in c1Points:\n",
    "#             print(\"c1: \", c1P)\n",
    "            for c2P in c2Points:\n",
    "#                 print(\"c2: \", c2P)\n",
    "                D = self.euclideanDistance(self.data[c1P], self.data[c2P])\n",
    "#                 print(\"Distance between {} and {} = {}\".format(c1P, c2P, D))\n",
    "                if D < minD:\n",
    "                    minD = D\n",
    "                    \n",
    "        return minD\n",
    "    \n",
    "    def insertCluster(self, cluster, index):\n",
    "        self.list[index] = cluster\n",
    "        return\n",
    "    \n",
    "    def mergeClusters(self, index1, index2):\n",
    "        \n",
    "        # extract the two clusters\n",
    "        fromCluster = self.list[index2]\n",
    "        toCluster = self.list[index1]\n",
    "        \n",
    "        # copy points from one to cluster to the other\n",
    "        for point in fromCluster.getPointList():\n",
    "            toCluster.addPoint(point)\n",
    "        \n",
    "        # re-insert the merged cluster\n",
    "        self.insertCluster(toCluster, index1)\n",
    "        \n",
    "        # delete the first cluster\n",
    "        self.deleteCluster(index2)\n",
    "        \n",
    "        return\n",
    "    \n",
    "    def compareAllClusters(self):\n",
    "        \n",
    "        # get list of all permutations between cluster indices\n",
    "        clusterPairs = self.getClusterPairs()\n",
    "        \n",
    "        # loop through list of cluster pairs and compute the distance\n",
    "        for i in range(len(clusterPairs)):\n",
    "            c1_index = clusterPairs[i][0]\n",
    "            c2_index = clusterPairs[i][1]\n",
    "            c1 = self.list[c1_index]\n",
    "            c2 = self.list[c2_index]\n",
    "            d = self.getClusterDistance(c1, c2)\n",
    "            \n",
    "            # store the distance in the priority queue\n",
    "            self.pq.put((d, c1_index, c2_index))\n",
    "            \n",
    "        return\n",
    "    \n",
    "    def renewPriorityQ(self):\n",
    "        self.pq = PriorityQueue()\n",
    "    \n",
    "    def getClosestCluster(self):\n",
    "        return self.pq.get()\n",
    "        \n",
    "    # lets get a list of all row pairs\n",
    "    def getClusterPairs(self):\n",
    "        t = []\n",
    "        for i in range(self.size):\n",
    "            t.append(i)\n",
    "\n",
    "        result = list(itertools.combinations(t, 2))\n",
    "\n",
    "        return result\n",
    "\n",
    "    def getCluster(self, index):\n",
    "        return self.list[index]\n",
    "    \n",
    "    def getList(self):\n",
    "        return self.list\n",
    "    \n",
    "    def isEmpty(self):\n",
    "        if (len(self.list) > 0):\n",
    "            return False\n",
    "        else:\n",
    "            return True\n",
    "        \n",
    "    def getSize(self):\n",
    "        return self.size\n",
    "    \n",
    "    def repairIndices(self):\n",
    "        inds = []\n",
    "        for i in range(len(self.list)):\n",
    "            inds.append(i)\n",
    "        \n",
    "    \n",
    "    # now a helper method to compute euclidean distance\n",
    "    def euclideanDistance(self, vec1, vec2):\n",
    "        result = 0\n",
    "        for i in range(len(vec1)):\n",
    "            pairDiff = (vec1[i] - vec2[i])\n",
    "            result += (pairDiff * pairDiff)\n",
    "\n",
    "        return math.sqrt(result)"
   ]
  },
  {
   "cell_type": "code",
   "execution_count": 9,
   "metadata": {},
   "outputs": [],
   "source": [
    "def genClusters(data, s_type):\n",
    "\n",
    "    # initialize empty cluster list\n",
    "    cList = clusterList(data.to_numpy(), s_type)\n",
    "\n",
    "    # initialize clusters with 1 point each and add them to the cluster list\n",
    "    for i in range(len(data)):\n",
    "        cList.addCluster(Cluster(i))\n",
    "        \n",
    "    # loop and merge\n",
    "    while(cList.getSize() > 4):\n",
    "        \n",
    "        # compute all distances between clusters\n",
    "        cList.compareAllClusters()\n",
    "        \n",
    "        # get the distance and indices of the closest clusters\n",
    "        cPair = cList.getClosestCluster()\n",
    "        \n",
    "        # merge the two closest clusters\n",
    "        cList.mergeClusters(cPair[1], cPair[2])\n",
    "        \n",
    "        # clear the priority queue\n",
    "        cList.renewPriorityQ()\n",
    "    \n",
    "    return cList"
   ]
  },
  {
   "cell_type": "code",
   "execution_count": 10,
   "metadata": {},
   "outputs": [],
   "source": [
    "singleLinkClusters = genClusters(c1, \"Single-Link\")"
   ]
  },
  {
   "cell_type": "code",
   "execution_count": 11,
   "metadata": {},
   "outputs": [
    {
     "name": "stdout",
     "output_type": "stream",
     "text": [
      "[0, 1]\n",
      "[2, 3, 4, 5, 6, 7, 8, 9, 14, 15]\n",
      "[10, 12, 11, 13, 18, 17]\n",
      "[16]\n"
     ]
    }
   ],
   "source": [
    "printClusters(singleLinkClusters)"
   ]
  },
  {
   "cell_type": "code",
   "execution_count": 12,
   "metadata": {},
   "outputs": [
    {
     "data": {
      "image/png": "[encoded data removed]",
      "text/plain": [
       "<Figure size 720x360 with 2 Axes>"
      ]
     },
     "metadata": {
      "needs_background": "light"
     },
     "output_type": "display_data"
    }
   ],
   "source": [
    "c1['cluster'] = [0, 0, 1, 1, 1, 1, 1, 1, 1, 1, 2, 2, 2, 2, 1, 1, 3, 2, 2]\n",
    "\n",
    "# we should start by looking at a plot of the data\n",
    "fig, ax = plt.subplots(figsize=(10,5))\n",
    "\n",
    "# colors = ['red','green','blue','purple', 'grey']\n",
    "colors = ['red', 'green', 'blue', 'purple']\n",
    "\n",
    "c1.plot(kind='scatter', x='x1', y='x2', c='cluster', alpha=.4, s=500, edgecolor='k', linewidth = 2,\n",
    "        cmap=pylab.mpl.colors.ListedColormap(colors), ax=ax)\n",
    "\n",
    "plt.title(\"Single-Link HAC\")\n",
    "plt.show()"
   ]
  },
  {
   "cell_type": "code",
   "execution_count": 13,
   "metadata": {},
   "outputs": [],
   "source": [
    "c1 = c1.drop(['cluster'], axis=1)"
   ]
  },
  {
   "cell_type": "code",
   "execution_count": 14,
   "metadata": {},
   "outputs": [],
   "source": [
    "completeLinkClusters = genClusters(c1, 'Complete-Link')"
   ]
  },
  {
   "cell_type": "code",
   "execution_count": 15,
   "metadata": {},
   "outputs": [
    {
     "name": "stdout",
     "output_type": "stream",
     "text": [
      "[0, 1, 5, 6, 7, 8, 9]\n",
      "[2, 3, 4]\n",
      "[10, 12, 11, 13, 17, 18]\n",
      "[14, 15, 16]\n"
     ]
    }
   ],
   "source": [
    "printClusters(completeLinkClusters)"
   ]
  },
  {
   "cell_type": "code",
   "execution_count": 16,
   "metadata": {},
   "outputs": [
    {
     "data": {
      "image/png": "[encoded data removed]",
      "text/plain": [
       "<Figure size 720x360 with 2 Axes>"
      ]
     },
     "metadata": {
      "needs_background": "light"
     },
     "output_type": "display_data"
    }
   ],
   "source": [
    "c1['cluster'] = [0, 0, 1, 1, 1, 0, 0, 0, 0, 0, 2, 2, 2, 2, 3, 3, 3, 2, 2]\n",
    "\n",
    "# we should start by looking at a plot of the data\n",
    "fig, ax = plt.subplots(figsize=(10,5))\n",
    "\n",
    "# colors = ['red','green','blue','purple', 'grey']\n",
    "colors = ['red', 'green', 'blue', 'purple']\n",
    "\n",
    "c1.plot(kind='scatter', x='x1', y='x2', c='cluster', alpha=.4, s=500, edgecolor='k', linewidth = 2,\n",
    "        cmap=pylab.mpl.colors.ListedColormap(colors), ax=ax)\n",
    "\n",
    "plt.title(\"Complete-Link HAC\")\n",
    "plt.show()"
   ]
  },
  {
   "cell_type": "code",
   "execution_count": 17,
   "metadata": {},
   "outputs": [],
   "source": [
    "c1 = c1.drop(['cluster'], axis=1)"
   ]
  },
  {
   "cell_type": "code",
   "execution_count": 18,
   "metadata": {},
   "outputs": [],
   "source": [
    "meanLinkClusters = genClusters(c1, 'Mean-Link')"
   ]
  },
  {
   "cell_type": "code",
   "execution_count": 19,
   "metadata": {},
   "outputs": [
    {
     "name": "stdout",
     "output_type": "stream",
     "text": [
      "[0, 1]\n",
      "[2, 3, 4, 5, 6, 7, 8, 9]\n",
      "[10, 12, 11, 13, 18, 17]\n",
      "[14, 15, 16]\n"
     ]
    }
   ],
   "source": [
    "printClusters(meanLinkClusters)"
   ]
  },
  {
   "cell_type": "code",
   "execution_count": 20,
   "metadata": {},
   "outputs": [
    {
     "data": {
      "image/png": "[encoded data removed]",
      "text/plain": [
       "<Figure size 720x360 with 2 Axes>"
      ]
     },
     "metadata": {
      "needs_background": "light"
     },
     "output_type": "display_data"
    }
   ],
   "source": [
    "c1['cluster'] = [0, 0, 1, 1, 1, 1, 1, 1, 1, 1, 2, 2, 2, 2, 3, 3, 3, 2, 2] \n",
    "\n",
    "# we should start by looking at a plot of the data\n",
    "fig, ax = plt.subplots(figsize=(10,5))\n",
    "\n",
    "# colors = ['red','green','blue','purple', 'grey']\n",
    "colors = ['red', 'green', 'blue', 'purple']\n",
    "\n",
    "c1.plot(kind='scatter', x='x1', y='x2', c='cluster', alpha=.4, s=500, edgecolor='k', linewidth = 2,\n",
    "        cmap=pylab.mpl.colors.ListedColormap(colors), ax=ax)\n",
    "\n",
    "plt.title(\"Mean-Link HAC\")\n",
    "\n",
    "plt.show()"
   ]
  }
 ],
 "metadata": {
  "kernelspec": {
   "display_name": "Python 3",
   "language": "python",
   "name": "python3"
  },
  "language_info": {
   "codemirror_mode": {
    "name": "ipython",
    "version": 3
   },
   "file_extension": ".py",
   "mimetype": "text/x-python",
   "name": "python",
   "nbconvert_exporter": "python",
   "pygments_lexer": "ipython3",
   "version": "3.7.6"
  }
 },
 "nbformat": 4,
 "nbformat_minor": 2
}
