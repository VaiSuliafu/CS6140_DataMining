{
 "cells": [
  {
   "cell_type": "code",
   "execution_count": 1,
   "metadata": {},
   "outputs": [],
   "source": [
    "import hashlib\n",
    "import random"
   ]
  },
  {
   "cell_type": "code",
   "execution_count": 2,
   "metadata": {},
   "outputs": [],
   "source": [
    "# read in the data\n",
    "file1 = open(\"S1.txt\",\"r\")\n",
    "s1 = file1.read()\n",
    "file1.close()\n",
    "\n",
    "file1 = open(\"S2.txt\",\"r\")\n",
    "s2 = file1.read()\n",
    "file1.close()"
   ]
  },
  {
   "cell_type": "code",
   "execution_count": 3,
   "metadata": {},
   "outputs": [],
   "source": [
    "def fixedDomainHash(item, salt, domainSize):\n",
    "    o = item + str(salt)\n",
    "    o = str.encode(o)\n",
    "    h = hashlib.sha224(o)\n",
    "    d = h.hexdigest()\n",
    "    d_int = int(d, 16) % domainSize\n",
    "    return d_int"
   ]
  },
  {
   "cell_type": "code",
   "execution_count": 4,
   "metadata": {},
   "outputs": [],
   "source": [
    "class countMatrix:\n",
    "    \n",
    "    def __init__(self, inputString, k, hashCount):\n",
    "        # initialize values which will be referenced repeatedly\n",
    "        self.k = k\n",
    "        self.saltList = random.sample(range(1, 1000), hashCount)\n",
    "        self.cm = [[0 for i in range(k)] for j in range(len(self.saltList))]\n",
    "        self.elementSet = set()\n",
    "\n",
    "        # build the data count matrix data structure (input step)\n",
    "        for i in range(len(inputString)):\n",
    "            for j in range(len(self.saltList)):\n",
    "                if inputString[i] not in self.elementSet:\n",
    "                    self.elementSet.add(inputString[i])\n",
    "                kIndex = self.fixedDomainHash(inputString[i], self.saltList[j], k)\n",
    "                self.cm[j][kIndex] += 1\n",
    "                \n",
    "    def fixedDomainHash(self, item, salt, domainSize):\n",
    "        o = item + str(salt)\n",
    "        o = str.encode(o)\n",
    "        h = hashlib.sha224(o)\n",
    "        d = h.hexdigest()\n",
    "        d_int = int(d, 16) % domainSize\n",
    "        return d_int\n",
    "        \n",
    "    # query functionality of Count-Min Sketch Algorithm\n",
    "    def query(self, element):\n",
    "        minResult=float('inf')\n",
    "        for i in range(len(self.saltList)):\n",
    "            kIndex = self.fixedDomainHash(element, self.saltList[i], self.k)\n",
    "            if self.cm[i][kIndex] <= minResult:\n",
    "                minResult = self.cm[i][kIndex]\n",
    "        return minResult\n",
    "    \n",
    "    # functionality to get all observed approximations\n",
    "    def getAll(self):\n",
    "        resultDic = {}\n",
    "        for element in self.elementSet:\n",
    "            resultDic[element] = self.query(element)\n",
    "        return resultDic"
   ]
  },
  {
   "cell_type": "code",
   "execution_count": 5,
   "metadata": {},
   "outputs": [],
   "source": [
    "s1Ds = countMatrix(s1, 10, 5)"
   ]
  },
  {
   "cell_type": "code",
   "execution_count": 6,
   "metadata": {},
   "outputs": [],
   "source": [
    "s2Ds = countMatrix(s2, 10, 5)"
   ]
  },
  {
   "cell_type": "code",
   "execution_count": 7,
   "metadata": {},
   "outputs": [],
   "source": [
    "# now for the assignment specific questions\n",
    "charSet = ['a', 'b', 'c']"
   ]
  },
  {
   "cell_type": "code",
   "execution_count": 8,
   "metadata": {},
   "outputs": [
    {
     "name": "stdout",
     "output_type": "stream",
     "text": [
      "Character: a\n",
      "Approximated Count in S1: 959642\n",
      "Approximated Frequency in S1: 0.31988066666666665\n",
      "\n",
      "Character: b\n",
      "Approximated Count in S1: 659314\n",
      "Approximated Frequency in S1: 0.21977133333333335\n",
      "\n",
      "Character: c\n",
      "Approximated Count in S1: 480804\n",
      "Approximated Frequency in S1: 0.160268\n",
      "\n"
     ]
    }
   ],
   "source": [
    "for char in charSet:\n",
    "    q1 = s1Ds.query(char)\n",
    "    print(\"Character: {}\".format(char))\n",
    "    print(\"Approximated Count in S1: {}\".format(q1))\n",
    "    print(\"Approximated Frequency in S1: {}\".format(q1 / len(s1)))\n",
    "    print(\"\")"
   ]
  },
  {
   "cell_type": "code",
   "execution_count": 9,
   "metadata": {},
   "outputs": [
    {
     "name": "stdout",
     "output_type": "stream",
     "text": [
      "Character: a\n",
      "Approximated Count in S2: 2040477\n",
      "Approximated Frequency in S2: 0.51011925\n",
      "\n",
      "Character: b\n",
      "Approximated Count in S2: 799400\n",
      "Approximated Frequency in S2: 0.19985\n",
      "\n",
      "Character: c\n",
      "Approximated Count in S2: 440444\n",
      "Approximated Frequency in S2: 0.110111\n",
      "\n"
     ]
    }
   ],
   "source": [
    "for char in charSet:\n",
    "    q2 = s2Ds.query(char)\n",
    "    print(\"Character: {}\".format(char))\n",
    "    print(\"Approximated Count in S2: {}\".format(q2))\n",
    "    print(\"Approximated Frequency in S2: {}\".format(q2 / len(s2)))\n",
    "    print(\"\")"
   ]
  },
  {
   "cell_type": "code",
   "execution_count": 10,
   "metadata": {},
   "outputs": [
    {
     "name": "stdout",
     "output_type": "stream",
     "text": [
      "Maximum Error for s1: 300000.0\n",
      "Maximum Error for s2: 400000.0\n"
     ]
    }
   ],
   "source": [
    "e1 = len(s1) / 10\n",
    "e2 = len(s2) / 10\n",
    "print(\"Maximum Error for s1: {}\".format(e1))\n",
    "print(\"Maximum Error for s2: {}\".format(e2))\n",
    "\n",
    "s1AllCounts = s1Ds.getAll()\n",
    "s2AllCounts = s2Ds.getAll()"
   ]
  },
  {
   "cell_type": "code",
   "execution_count": 11,
   "metadata": {},
   "outputs": [],
   "source": [
    "def printCutOffResults(dic, error, dataLength):\n",
    "    mustList = []\n",
    "    maybeList = []\n",
    "    for key in dic:\n",
    "        if (dic[key] - error) > (dataLength / 5):\n",
    "            mustList.append(key)\n",
    "        elif (dic[key] - error) < (dataLength / 5) and (dic[key] - error) > (dataLength / 10):\n",
    "            maybeList.append(key)\n",
    "    return mustList, maybeList"
   ]
  },
  {
   "cell_type": "code",
   "execution_count": 12,
   "metadata": {},
   "outputs": [],
   "source": [
    "s1MustList, s1MaybeList = printCutOffResults(s1AllCounts, e1, len(s1))"
   ]
  },
  {
   "cell_type": "code",
   "execution_count": 13,
   "metadata": {},
   "outputs": [],
   "source": [
    "s2MustList, s2MaybeList = printCutOffResults(s2AllCounts, e2, len(s2))"
   ]
  },
  {
   "cell_type": "code",
   "execution_count": 14,
   "metadata": {},
   "outputs": [
    {
     "name": "stdout",
     "output_type": "stream",
     "text": [
      "Count-Min Sketch on s1 with k=10, t=5\n",
      "\n",
      "Elements in s1 that must be greater than 20% frequency\n",
      "['a']\n",
      "\n",
      "Elements in s1 that might be greater than 20% frequency\n",
      "['b']\n",
      "\n",
      "Count-Min Sketch on s2 with k=10, t=5\n",
      "\n",
      "Elements in s2 that must be greater than 20% frequency\n",
      "['a']\n",
      "\n",
      "Elements in s2 that might be greater than 20% frequency\n",
      "[]\n"
     ]
    }
   ],
   "source": [
    "print(\"Count-Min Sketch on s1 with k=10, t=5\")\n",
    "print(\"\")\n",
    "print(\"Elements in s1 that must be greater than 20% frequency\")\n",
    "print(s1MustList)\n",
    "print(\"\")\n",
    "print(\"Elements in s1 that might be greater than 20% frequency\")\n",
    "print(s1MaybeList)\n",
    "print(\"\")\n",
    "\n",
    "print(\"Count-Min Sketch on s2 with k=10, t=5\")\n",
    "print(\"\")\n",
    "print(\"Elements in s2 that must be greater than 20% frequency\")\n",
    "print(s2MustList)\n",
    "print(\"\")\n",
    "print(\"Elements in s2 that might be greater than 20% frequency\")\n",
    "print(s2MaybeList)"
   ]
  }
 ],
 "metadata": {
  "kernelspec": {
   "display_name": "Python 3",
   "language": "python",
   "name": "python3"
  },
  "language_info": {
   "codemirror_mode": {
    "name": "ipython",
    "version": 3
   },
   "file_extension": ".py",
   "mimetype": "text/x-python",
   "name": "python",
   "nbconvert_exporter": "python",
   "pygments_lexer": "ipython3",
   "version": "3.7.6"
  }
 },
 "nbformat": 4,
 "nbformat_minor": 2
}
