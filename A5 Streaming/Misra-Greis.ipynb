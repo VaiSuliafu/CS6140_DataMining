{
 "cells": [
  {
   "cell_type": "code",
   "execution_count": 1,
   "metadata": {},
   "outputs": [],
   "source": [
    "file1 = open(\"S1.txt\",\"r\")\n",
    "s1 = file1.read()\n",
    "file1.close()\n",
    "\n",
    "file1 = open(\"S2.txt\",\"r\")\n",
    "s2 = file1.read()\n",
    "file1.close()"
   ]
  },
  {
   "cell_type": "code",
   "execution_count": 2,
   "metadata": {},
   "outputs": [],
   "source": [
    "# Misra-Gries(A)\n",
    "def misraGries(s, num):\n",
    "    \n",
    "    counts = [0] * num\n",
    "    labels = [None] * num\n",
    "\n",
    "    for i in range(len(s)):\n",
    "        if s[i] in labels:\n",
    "            counts[labels.index(s[i])] += 1\n",
    "        else:\n",
    "            if (0 in counts):\n",
    "                labels[counts.index(0)] = s[i]\n",
    "                counts[counts.index(0)] = 1\n",
    "            else:\n",
    "                for j in range(len(counts)):\n",
    "                    counts[j] -= 1\n",
    "    return counts, labels"
   ]
  },
  {
   "cell_type": "code",
   "execution_count": 3,
   "metadata": {},
   "outputs": [],
   "source": [
    "def countToPercentage(counts, m):\n",
    "    percentList = []\n",
    "    for count in counts:\n",
    "        percentList.append(count / m)\n",
    "    return percentList"
   ]
  },
  {
   "cell_type": "code",
   "execution_count": 4,
   "metadata": {},
   "outputs": [],
   "source": [
    "s1Counts, s1Labels = misraGries(s1, 9)\n",
    "s1Percents = countToPercentage(s1Counts, len(s1))"
   ]
  },
  {
   "cell_type": "code",
   "execution_count": 5,
   "metadata": {},
   "outputs": [],
   "source": [
    "s1Percents = [\"%.2f\" % member for member in s1Percents]"
   ]
  },
  {
   "cell_type": "code",
   "execution_count": 6,
   "metadata": {},
   "outputs": [],
   "source": [
    "s2Counts, s2Labels = misraGries(s2, 9)\n",
    "s2Percents = countToPercentage(s2Counts, len(s2))"
   ]
  },
  {
   "cell_type": "code",
   "execution_count": 7,
   "metadata": {},
   "outputs": [],
   "source": [
    "s2Percents = [\"%.2f\" % member for member in s2Percents]"
   ]
  },
  {
   "cell_type": "code",
   "execution_count": 8,
   "metadata": {},
   "outputs": [
    {
     "name": "stdout",
     "output_type": "stream",
     "text": [
      "Maximum Error for s1: 300000.0\n",
      "Maximum Error for s2: 400000.0\n"
     ]
    }
   ],
   "source": [
    "e1 = len(s1) / 10\n",
    "e2 = len(s2) / 10\n",
    "print(\"Maximum Error for s1: {}\".format(e1))\n",
    "print(\"Maximum Error for s2: {}\".format(e2))\n",
    "s1LowerBound = (len(s1) / 5) - e1\n",
    "s2LowerBound = (len(s2) / 5) - e2"
   ]
  },
  {
   "cell_type": "code",
   "execution_count": 12,
   "metadata": {},
   "outputs": [
    {
     "name": "stdout",
     "output_type": "stream",
     "text": [
      "Misra-Gries on s1 with (k -1) = 9\n",
      "\n",
      "Counts:\n",
      "[736664, 436662, 1, 1, 1, 1, 197649, 1, 0]\n",
      "\n",
      "Percentages:\n",
      "['0.25', '0.15', '0.00', '0.00', '0.00', '0.00', '0.07', '0.00', '0.00']\n",
      "\n",
      "Labels:\n",
      "['a', 'b', 'd', 'p', 't', 'n', 'c', 'v', 'k']\n",
      "\n",
      "Elements in s1 that must be greater than 20% frequency\n",
      "['a']\n",
      "\n",
      "Elements in s1 that might be greater than 20% frequency\n",
      "['b']\n"
     ]
    }
   ],
   "source": [
    "print(\"Misra-Gries on s1 with (k -1) = 9\")\n",
    "print(\"\")\n",
    "print(\"Counts:\")\n",
    "print(s1Counts)\n",
    "print(\"\")\n",
    "print(\"Percentages:\")\n",
    "print(s1Percents)\n",
    "print(\"\")\n",
    "print(\"Labels:\")\n",
    "print(s1Labels)\n",
    "print(\"\")\n",
    "\n",
    "print(\"Elements in s1 that must be greater than 20% frequency\")\n",
    "print([s1Labels[i] for i in range(len(s1Counts)) if s1Counts[i] > (len(s1) / 5)])\n",
    "print(\"\")\n",
    "print(\"Elements in s1 that might be greater than 20% frequency\")\n",
    "print([s1Labels[i] for i in range(len(s1Counts)) if s1Counts[i] > e1 and s1Counts[i] < (len(s1)/ 5)])"
   ]
  },
  {
   "cell_type": "code",
   "execution_count": 15,
   "metadata": {},
   "outputs": [
    {
     "name": "stdout",
     "output_type": "stream",
     "text": [
      "Misra-Gries on s2 with (k -1) = 9\n",
      "\n",
      "Counts:\n",
      "[1, 685133, 1885833, 1, 1, 1, 1, 286358, 1]\n",
      "\n",
      "Percentages:\n",
      "['0.00', '0.17', '0.47', '0.00', '0.00', '0.00', '0.00', '0.07', '0.00']\n",
      "\n",
      "labels:\n",
      "['h', 'b', 'a', 'f', 'j', 'i', 'o', 'c', 'v']\n",
      "\n",
      "Elements in s2 that must be greater than 20% frequency\n",
      "['a']\n",
      "\n",
      "Elements in s2 that might be greater than 20% frequency\n",
      "['b']\n"
     ]
    }
   ],
   "source": [
    "print(\"Misra-Gries on s2 with (k -1) = 9\")\n",
    "print(\"\")\n",
    "print(\"Counts:\")\n",
    "print(s2Counts)\n",
    "print(\"\")\n",
    "print(\"Percentages:\")\n",
    "print(s2Percents)\n",
    "print(\"\")\n",
    "print(\"labels:\")\n",
    "print(s2Labels)\n",
    "print(\"\")\n",
    "\n",
    "print(\"Elements in s2 that must be greater than 20% frequency\")\n",
    "print([s2Labels[i] for i in range(len(s2Counts)) if s2Counts[i] > (len(s2) / 5)])\n",
    "print(\"\")\n",
    "print(\"Elements in s2 that might be greater than 20% frequency\")\n",
    "print([s2Labels[i] for i in range(len(s2Counts)) if s2Counts[i] > e2 and s2Counts[i] < (len(s2)/ 5)])"
   ]
  },
  {
   "cell_type": "code",
   "execution_count": 11,
   "metadata": {},
   "outputs": [
    {
     "data": {
      "text/plain": [
       "([245, 125, 0, 0, 0, 0, 80, 0, 0],\n",
       " ['a', 'b', 'd', 'i', 's', 'q', 'c', 'k', 'g'])"
      ]
     },
     "execution_count": 11,
     "metadata": {},
     "output_type": "execute_result"
    }
   ],
   "source": [
    "# checking the results match what was provided by the TA\n",
    "misraGries(s1[:1000], 9)"
   ]
  }
 ],
 "metadata": {
  "kernelspec": {
   "display_name": "Python 3",
   "language": "python",
   "name": "python3"
  },
  "language_info": {
   "codemirror_mode": {
    "name": "ipython",
    "version": 3
   },
   "file_extension": ".py",
   "mimetype": "text/x-python",
   "name": "python",
   "nbconvert_exporter": "python",
   "pygments_lexer": "ipython3",
   "version": "3.7.4"
  }
 },
 "nbformat": 4,
 "nbformat_minor": 2
}
