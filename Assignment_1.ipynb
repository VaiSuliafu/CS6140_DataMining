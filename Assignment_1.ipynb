{
 "cells": [
  {
   "cell_type": "code",
   "execution_count": 1,
   "metadata": {},
   "outputs": [],
   "source": [
    "from random import randint\n",
    "import numpy as np\n",
    "import matplotlib.pyplot as plt\n",
    "import pandas as pd\n",
    "from collections import Counter"
   ]
  },
  {
   "cell_type": "code",
   "execution_count": 2,
   "metadata": {},
   "outputs": [],
   "source": [
    "'''\n",
    "This function will run each individual trial.\n",
    "'''\n",
    "def runTrial(n):\n",
    "    # Make an empty list and initialize the count\n",
    "    sample_list = []\n",
    "    count = 0\n",
    "\n",
    "    # Keep looping until successful return call\n",
    "    while(True):\n",
    "        # generate random int between 0, n\n",
    "        x = randint(0, n)\n",
    "        \n",
    "        # increment the count of randomly generated numbers\n",
    "        count = count + 1\n",
    "        \n",
    "        # if x is already in sample list return the count\n",
    "        if x in sample_list:\n",
    "            return count\n",
    "        # else add x to the list\n",
    "        else:\n",
    "            sample_list.append(x)\n",
    "    return"
   ]
  },
  {
   "cell_type": "code",
   "execution_count": 3,
   "metadata": {},
   "outputs": [],
   "source": [
    "'''\n",
    "This function conducts the entire simulation.\n",
    "'''\n",
    "def birthdayParadox(n, m):\n",
    "    # initialize an empty list\n",
    "    full_list = []\n",
    "    \n",
    "    # run m individual trials and append results\n",
    "    # to the full_list\n",
    "    i = 0\n",
    "    for i in range(m):\n",
    "        full_list.append(runTrial(n))\n",
    "\n",
    "    return full_list"
   ]
  },
  {
   "cell_type": "code",
   "execution_count": 10,
   "metadata": {},
   "outputs": [],
   "source": [
    "'''\n",
    "This function takes a list of values and derives the PDF.\n",
    "The PDF is then returned in a dictionary structure.\n",
    "'''\n",
    "def probabilityDensityFunction(arg_list):\n",
    "    # convert list to dictionary\n",
    "    # with keys being the list elements\n",
    "    # and values being the count of element appearnces in list\n",
    "    result_count = Counter(result)\n",
    "    \n",
    "    # get the total number of observations\n",
    "    total = sum(result_count.values(), 0.0)\n",
    "    \n",
    "    # divide each value in dictionary by total\n",
    "    regularized_count = {k: v / total for k, v in result_count.items()}\n",
    "    \n",
    "    return regularized_count"
   ]
  },
  {
   "cell_type": "code",
   "execution_count": 51,
   "metadata": {},
   "outputs": [],
   "source": [
    "'''\n",
    "This function takes a PDF dictionary and returns\n",
    "an ordered Pandas DataFrame with an additional \n",
    "column for cumulative probabilities.\n",
    "'''\n",
    "def cdfDataFrame(prob_dic):\n",
    "    # converting the dicitonary to a 2 column numpy array\n",
    "    df = np.array([[k,v] for k,v in prob_dic.items()])\n",
    "    \n",
    "    # sort the 2 column array for values in column 0\n",
    "    df = df[df[:, 0].argsort()]\n",
    "    \n",
    "    # calculate the cumulative sum of the second column\n",
    "    cdf = np.cumsum(df[:, 1])\n",
    "    \n",
    "    # now make a pandas dataframe\n",
    "    data = pd.DataFrame({'Values': df[:, 0],\n",
    "                         'Probability': df[:, 1],\n",
    "                         'Cumulative Probability': cdf})\n",
    "    \n",
    "    return data"
   ]
  },
  {
   "cell_type": "code",
   "execution_count": 52,
   "metadata": {},
   "outputs": [],
   "source": [
    "# run the entire simulation with specified arguments\n",
    "result = birthdayParadox(n=5000, m=300)"
   ]
  },
  {
   "cell_type": "code",
   "execution_count": 53,
   "metadata": {},
   "outputs": [
    {
     "name": "stdout",
     "output_type": "stream",
     "text": [
      "Expected value:  87.27333333333333\n"
     ]
    }
   ],
   "source": [
    "# calculate the expected value\n",
    "expected_v = sum(result) / len(result)\n",
    "print(\"Expected value: \", expected_v)"
   ]
  },
  {
   "cell_type": "code",
   "execution_count": 54,
   "metadata": {},
   "outputs": [],
   "source": [
    "# get the pdf\n",
    "pdf = probabilityDensityFunction(result)"
   ]
  },
  {
   "cell_type": "code",
   "execution_count": 55,
   "metadata": {},
   "outputs": [],
   "source": [
    "# get the cdf dataframe\n",
    "cdf_df = cdfDataFrame(pdf)"
   ]
  },
  {
   "cell_type": "code",
   "execution_count": 57,
   "metadata": {},
   "outputs": [
    {
     "data": {
      "text/html": [
       "<div>\n",
       "<style scoped>\n",
       "    .dataframe tbody tr th:only-of-type {\n",
       "        vertical-align: middle;\n",
       "    }\n",
       "\n",
       "    .dataframe tbody tr th {\n",
       "        vertical-align: top;\n",
       "    }\n",
       "\n",
       "    .dataframe thead th {\n",
       "        text-align: right;\n",
       "    }\n",
       "</style>\n",
       "<table border=\"1\" class=\"dataframe\">\n",
       "  <thead>\n",
       "    <tr style=\"text-align: right;\">\n",
       "      <th></th>\n",
       "      <th>Values</th>\n",
       "      <th>Probability</th>\n",
       "      <th>Cumulative Probability</th>\n",
       "    </tr>\n",
       "  </thead>\n",
       "  <tbody>\n",
       "    <tr>\n",
       "      <th>0</th>\n",
       "      <td>3.0</td>\n",
       "      <td>0.003333</td>\n",
       "      <td>0.003333</td>\n",
       "    </tr>\n",
       "    <tr>\n",
       "      <th>1</th>\n",
       "      <td>7.0</td>\n",
       "      <td>0.006667</td>\n",
       "      <td>0.010000</td>\n",
       "    </tr>\n",
       "    <tr>\n",
       "      <th>2</th>\n",
       "      <td>11.0</td>\n",
       "      <td>0.003333</td>\n",
       "      <td>0.013333</td>\n",
       "    </tr>\n",
       "    <tr>\n",
       "      <th>3</th>\n",
       "      <td>13.0</td>\n",
       "      <td>0.006667</td>\n",
       "      <td>0.020000</td>\n",
       "    </tr>\n",
       "    <tr>\n",
       "      <th>4</th>\n",
       "      <td>14.0</td>\n",
       "      <td>0.003333</td>\n",
       "      <td>0.023333</td>\n",
       "    </tr>\n",
       "    <tr>\n",
       "      <th>...</th>\n",
       "      <td>...</td>\n",
       "      <td>...</td>\n",
       "      <td>...</td>\n",
       "    </tr>\n",
       "    <tr>\n",
       "      <th>132</th>\n",
       "      <td>190.0</td>\n",
       "      <td>0.003333</td>\n",
       "      <td>0.986667</td>\n",
       "    </tr>\n",
       "    <tr>\n",
       "      <th>133</th>\n",
       "      <td>194.0</td>\n",
       "      <td>0.003333</td>\n",
       "      <td>0.990000</td>\n",
       "    </tr>\n",
       "    <tr>\n",
       "      <th>134</th>\n",
       "      <td>198.0</td>\n",
       "      <td>0.003333</td>\n",
       "      <td>0.993333</td>\n",
       "    </tr>\n",
       "    <tr>\n",
       "      <th>135</th>\n",
       "      <td>211.0</td>\n",
       "      <td>0.003333</td>\n",
       "      <td>0.996667</td>\n",
       "    </tr>\n",
       "    <tr>\n",
       "      <th>136</th>\n",
       "      <td>212.0</td>\n",
       "      <td>0.003333</td>\n",
       "      <td>1.000000</td>\n",
       "    </tr>\n",
       "  </tbody>\n",
       "</table>\n",
       "<p>137 rows × 3 columns</p>\n",
       "</div>"
      ],
      "text/plain": [
       "     Values  Probability  Cumulative Probability\n",
       "0       3.0     0.003333                0.003333\n",
       "1       7.0     0.006667                0.010000\n",
       "2      11.0     0.003333                0.013333\n",
       "3      13.0     0.006667                0.020000\n",
       "4      14.0     0.003333                0.023333\n",
       "..      ...          ...                     ...\n",
       "132   190.0     0.003333                0.986667\n",
       "133   194.0     0.003333                0.990000\n",
       "134   198.0     0.003333                0.993333\n",
       "135   211.0     0.003333                0.996667\n",
       "136   212.0     0.003333                1.000000\n",
       "\n",
       "[137 rows x 3 columns]"
      ]
     },
     "execution_count": 57,
     "metadata": {},
     "output_type": "execute_result"
    }
   ],
   "source": [
    "# view the data\n",
    "cdf_df"
   ]
  },
  {
   "cell_type": "code",
   "execution_count": 59,
   "metadata": {},
   "outputs": [
    {
     "data": {
      "image/png": "[encoded data removed]",
      "text/plain": [
       "<Figure size 432x288 with 1 Axes>"
      ]
     },
     "metadata": {
      "needs_background": "light"
     },
     "output_type": "display_data"
    }
   ],
   "source": [
    "# generate a plot\n",
    "plt.plot(cdf_df['Values'],\n",
    "         cdf_df['Cumulative Probability'])\n",
    "\n",
    "#a add some labels for clarity\n",
    "plt.xlabel(\"Number of Trials\")\n",
    "plt.ylabel(\"% of Successful Experiments\")\n",
    "plt.title(\"Birthday Paradox CDF\")\n",
    "\n",
    "plt.show()"
   ]
  },
  {
   "cell_type": "code",
   "execution_count": null,
   "metadata": {},
   "outputs": [],
   "source": []
  }
 ],
 "metadata": {
  "kernelspec": {
   "display_name": "Python 3",
   "language": "python",
   "name": "python3"
  },
  "language_info": {
   "codemirror_mode": {
    "name": "ipython",
    "version": 3
   },
   "file_extension": ".py",
   "mimetype": "text/x-python",
   "name": "python",
   "nbconvert_exporter": "python",
   "pygments_lexer": "ipython3",
   "version": "3.7.6"
  }
 },
 "nbformat": 4,
 "nbformat_minor": 2
}
